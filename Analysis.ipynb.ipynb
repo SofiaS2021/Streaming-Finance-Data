{
 "cells": [
  {
   "cell_type": "markdown",
   "id": "64e4108e",
   "metadata": {},
   "source": [
    "## Project 3: Finance Data Visualizations of the Query Results\n",
    "### by Sofia Shur"
   ]
  },
  {
   "cell_type": "code",
   "execution_count": 187,
   "id": "38083a68",
   "metadata": {},
   "outputs": [],
   "source": [
    "import pandas as pd\n",
    "import numpy as np\n",
    "import matplotlib.pyplot as plt"
   ]
  },
  {
   "cell_type": "code",
   "execution_count": 188,
   "id": "f4938a1a",
   "metadata": {},
   "outputs": [],
   "source": [
    "import seaborn as sns"
   ]
  },
  {
   "cell_type": "code",
   "execution_count": 189,
   "id": "c1c9c11c",
   "metadata": {},
   "outputs": [],
   "source": [
    "data = pd.read_csv(\"results.csv.csv\")\n"
   ]
  },
  {
   "cell_type": "code",
   "execution_count": 190,
   "id": "ab96b9a0",
   "metadata": {},
   "outputs": [],
   "source": [
    "data.sort_values(\"Hour\", inplace=True)"
   ]
  },
  {
   "cell_type": "code",
   "execution_count": 191,
   "id": "d6a2fbd6",
   "metadata": {},
   "outputs": [
    {
     "data": {
      "text/html": [
       "<div>\n",
       "<style scoped>\n",
       "    .dataframe tbody tr th:only-of-type {\n",
       "        vertical-align: middle;\n",
       "    }\n",
       "\n",
       "    .dataframe tbody tr th {\n",
       "        vertical-align: top;\n",
       "    }\n",
       "\n",
       "    .dataframe thead th {\n",
       "        text-align: right;\n",
       "    }\n",
       "</style>\n",
       "<table border=\"1\" class=\"dataframe\">\n",
       "  <thead>\n",
       "    <tr style=\"text-align: right;\">\n",
       "      <th></th>\n",
       "      <th>Company</th>\n",
       "      <th>High</th>\n",
       "      <th>Hour</th>\n",
       "    </tr>\n",
       "  </thead>\n",
       "  <tbody>\n",
       "    <tr>\n",
       "      <th>79</th>\n",
       "      <td>TTD</td>\n",
       "      <td>52.50</td>\n",
       "      <td>16</td>\n",
       "    </tr>\n",
       "    <tr>\n",
       "      <th>63</th>\n",
       "      <td>SNAP</td>\n",
       "      <td>22.47</td>\n",
       "      <td>16</td>\n",
       "    </tr>\n",
       "    <tr>\n",
       "      <th>7</th>\n",
       "      <td>BYND</td>\n",
       "      <td>24.67</td>\n",
       "      <td>16</td>\n",
       "    </tr>\n",
       "    <tr>\n",
       "      <th>15</th>\n",
       "      <td>DDOG</td>\n",
       "      <td>93.93</td>\n",
       "      <td>16</td>\n",
       "    </tr>\n",
       "    <tr>\n",
       "      <th>23</th>\n",
       "      <td>FB</td>\n",
       "      <td>196.23</td>\n",
       "      <td>16</td>\n",
       "    </tr>\n",
       "    <tr>\n",
       "      <th>...</th>\n",
       "      <td>...</td>\n",
       "      <td>...</td>\n",
       "      <td>...</td>\n",
       "    </tr>\n",
       "    <tr>\n",
       "      <th>56</th>\n",
       "      <td>SNAP</td>\n",
       "      <td>29.54</td>\n",
       "      <td>9</td>\n",
       "    </tr>\n",
       "    <tr>\n",
       "      <th>8</th>\n",
       "      <td>DDOG</td>\n",
       "      <td>123.34</td>\n",
       "      <td>9</td>\n",
       "    </tr>\n",
       "    <tr>\n",
       "      <th>16</th>\n",
       "      <td>FB</td>\n",
       "      <td>210.73</td>\n",
       "      <td>9</td>\n",
       "    </tr>\n",
       "    <tr>\n",
       "      <th>64</th>\n",
       "      <td>SQ</td>\n",
       "      <td>103.07</td>\n",
       "      <td>9</td>\n",
       "    </tr>\n",
       "    <tr>\n",
       "      <th>0</th>\n",
       "      <td>BYND</td>\n",
       "      <td>37.80</td>\n",
       "      <td>9</td>\n",
       "    </tr>\n",
       "  </tbody>\n",
       "</table>\n",
       "<p>80 rows × 3 columns</p>\n",
       "</div>"
      ],
      "text/plain": [
       "   Company    High  Hour\n",
       "79     TTD   52.50    16\n",
       "63    SNAP   22.47    16\n",
       "7     BYND   24.67    16\n",
       "15    DDOG   93.93    16\n",
       "23      FB  196.23    16\n",
       "..     ...     ...   ...\n",
       "56    SNAP   29.54     9\n",
       "8     DDOG  123.34     9\n",
       "16      FB  210.73     9\n",
       "64      SQ  103.07     9\n",
       "0     BYND   37.80     9\n",
       "\n",
       "[80 rows x 3 columns]"
      ]
     },
     "execution_count": 191,
     "metadata": {},
     "output_type": "execute_result"
    }
   ],
   "source": [
    "data.sort_values('Hour', ascending = False)"
   ]
  },
  {
   "cell_type": "markdown",
   "id": "eee46548",
   "metadata": {},
   "source": [
    "### 1) Highest Stock Price at the First Trading Hour (or Any Hour) (A Bar Chart: Each bar refers to a company)"
   ]
  },
  {
   "cell_type": "code",
   "execution_count": 192,
   "id": "79c7175f",
   "metadata": {},
   "outputs": [],
   "source": [
    "# selecting rows based on condition \n",
    "second_hour = data[(data['Hour'] > 9) & (data['Hour'] < 11)] "
   ]
  },
  {
   "cell_type": "code",
   "execution_count": 193,
   "id": "66a509df",
   "metadata": {},
   "outputs": [
    {
     "data": {
      "text/html": [
       "<div>\n",
       "<style scoped>\n",
       "    .dataframe tbody tr th:only-of-type {\n",
       "        vertical-align: middle;\n",
       "    }\n",
       "\n",
       "    .dataframe tbody tr th {\n",
       "        vertical-align: top;\n",
       "    }\n",
       "\n",
       "    .dataframe thead th {\n",
       "        text-align: right;\n",
       "    }\n",
       "</style>\n",
       "<table border=\"1\" class=\"dataframe\">\n",
       "  <thead>\n",
       "    <tr style=\"text-align: right;\">\n",
       "      <th></th>\n",
       "      <th>Company</th>\n",
       "      <th>High</th>\n",
       "      <th>Hour</th>\n",
       "    </tr>\n",
       "  </thead>\n",
       "  <tbody>\n",
       "    <tr>\n",
       "      <th>49</th>\n",
       "      <td>SHOP</td>\n",
       "      <td>448.42</td>\n",
       "      <td>10</td>\n",
       "    </tr>\n",
       "    <tr>\n",
       "      <th>17</th>\n",
       "      <td>FB</td>\n",
       "      <td>210.86</td>\n",
       "      <td>10</td>\n",
       "    </tr>\n",
       "    <tr>\n",
       "      <th>25</th>\n",
       "      <td>NFLX</td>\n",
       "      <td>200.21</td>\n",
       "      <td>10</td>\n",
       "    </tr>\n",
       "    <tr>\n",
       "      <th>33</th>\n",
       "      <td>OKTA</td>\n",
       "      <td>123.32</td>\n",
       "      <td>10</td>\n",
       "    </tr>\n",
       "    <tr>\n",
       "      <th>9</th>\n",
       "      <td>DDOG</td>\n",
       "      <td>122.58</td>\n",
       "      <td>10</td>\n",
       "    </tr>\n",
       "    <tr>\n",
       "      <th>65</th>\n",
       "      <td>SQ</td>\n",
       "      <td>103.28</td>\n",
       "      <td>10</td>\n",
       "    </tr>\n",
       "    <tr>\n",
       "      <th>73</th>\n",
       "      <td>TTD</td>\n",
       "      <td>61.35</td>\n",
       "      <td>10</td>\n",
       "    </tr>\n",
       "    <tr>\n",
       "      <th>1</th>\n",
       "      <td>BYND</td>\n",
       "      <td>37.99</td>\n",
       "      <td>10</td>\n",
       "    </tr>\n",
       "    <tr>\n",
       "      <th>57</th>\n",
       "      <td>SNAP</td>\n",
       "      <td>29.44</td>\n",
       "      <td>10</td>\n",
       "    </tr>\n",
       "    <tr>\n",
       "      <th>41</th>\n",
       "      <td>PINS</td>\n",
       "      <td>21.36</td>\n",
       "      <td>10</td>\n",
       "    </tr>\n",
       "  </tbody>\n",
       "</table>\n",
       "</div>"
      ],
      "text/plain": [
       "   Company    High  Hour\n",
       "49    SHOP  448.42    10\n",
       "17      FB  210.86    10\n",
       "25    NFLX  200.21    10\n",
       "33    OKTA  123.32    10\n",
       "9     DDOG  122.58    10\n",
       "65      SQ  103.28    10\n",
       "73     TTD   61.35    10\n",
       "1     BYND   37.99    10\n",
       "57    SNAP   29.44    10\n",
       "41    PINS   21.36    10"
      ]
     },
     "execution_count": 193,
     "metadata": {},
     "output_type": "execute_result"
    }
   ],
   "source": [
    "second_hour.sort_values('High', ascending = False)"
   ]
  },
  {
   "cell_type": "code",
   "execution_count": 195,
   "id": "c2041e14",
   "metadata": {},
   "outputs": [
    {
     "data": {
      "image/png": "[encoded data removed]",
      "text/plain": [
       "<Figure size 648x360 with 1 Axes>"
      ]
     },
     "metadata": {
      "needs_background": "light"
     },
     "output_type": "display_data"
    }
   ],
   "source": [
    "plt.figure(figsize=(9, 5))\n",
    "sns.barplot(x='Company',\n",
    "            y=\"High\", \n",
    "            data=second_hour, \n",
    "            order=second_hour.sort_values('High', ascending = False).Company)\n",
    "#setting labels\n",
    "plt.title(\"Highest Price during 10AM-10:59AM on May 2nd, 2022\")\n",
    "plt.xlabel(\"Company\")\n",
    "plt.ylabel(\"Price\")\n",
    "plt.show()"
   ]
  },
  {
   "cell_type": "markdown",
   "id": "2c0b0bbe",
   "metadata": {},
   "source": [
    "### 2) Highest Hourly Stock Price Trend (A Line Chart: Each line refers to a company)"
   ]
  },
  {
   "cell_type": "code",
   "execution_count": 196,
   "id": "c550b14c",
   "metadata": {},
   "outputs": [
    {
     "data": {
      "image/png": "[encoded data removed]",
      "text/plain": [
       "<Figure size 640x480 with 1 Axes>"
      ]
     },
     "metadata": {
      "needs_background": "light"
     },
     "output_type": "display_data"
    }
   ],
   "source": [
    "from matplotlib.pyplot import figure\n",
    "\n",
    "figure(figsize=(8, 6), dpi=80)\n",
    "\n",
    "tickers = ['FB', 'SHOP', 'BYND', 'NFLX', 'PINS', 'SQ', 'TTD', 'OKTA', 'SNAP', 'DDOG']\n",
    "for a in tickers:\n",
    "    plt.plot(data[data['Company'] == a]['High'].values)\n",
    "    \n",
    "plt.xlim(0,7)\n",
    "plt.xlabel(\"Hour\", fontsize=14)\n",
    "plt.ylabel(\"Highest Stock Price\", fontsize=14)\n",
    "plt.title(\"Highest Hourly Stock Price Trend on May 2, 2022\", fontsize=16)\n",
    "# Plot the grid lines\n",
    "plt.grid(which=\"major\", color='k', linestyle='-.', linewidth=0.5)\n",
    "plt.show()\n",
    "    "
   ]
  },
  {
   "cell_type": "markdown",
   "id": "7876c7a2",
   "metadata": {},
   "source": [
    "### 4) Average Highest Hourly Stock Price (A Bar Chart: Each bar refers to a company)"
   ]
  },
  {
   "cell_type": "code",
   "execution_count": 198,
   "id": "0703c851",
   "metadata": {},
   "outputs": [],
   "source": [
    "avg_df = data.groupby('Company').mean()['High'].to_frame()"
   ]
  },
  {
   "cell_type": "code",
   "execution_count": 199,
   "id": "f9cf32c4",
   "metadata": {},
   "outputs": [
    {
     "data": {
      "text/html": [
       "<div>\n",
       "<style scoped>\n",
       "    .dataframe tbody tr th:only-of-type {\n",
       "        vertical-align: middle;\n",
       "    }\n",
       "\n",
       "    .dataframe tbody tr th {\n",
       "        vertical-align: top;\n",
       "    }\n",
       "\n",
       "    .dataframe thead th {\n",
       "        text-align: right;\n",
       "    }\n",
       "</style>\n",
       "<table border=\"1\" class=\"dataframe\">\n",
       "  <thead>\n",
       "    <tr style=\"text-align: right;\">\n",
       "      <th></th>\n",
       "      <th>High</th>\n",
       "    </tr>\n",
       "    <tr>\n",
       "      <th>Company</th>\n",
       "      <th></th>\n",
       "    </tr>\n",
       "  </thead>\n",
       "  <tbody>\n",
       "    <tr>\n",
       "      <th>SHOP</th>\n",
       "      <td>436.73250</td>\n",
       "    </tr>\n",
       "    <tr>\n",
       "      <th>FB</th>\n",
       "      <td>207.11250</td>\n",
       "    </tr>\n",
       "    <tr>\n",
       "      <th>NFLX</th>\n",
       "      <td>197.18625</td>\n",
       "    </tr>\n",
       "    <tr>\n",
       "      <th>OKTA</th>\n",
       "      <td>117.92125</td>\n",
       "    </tr>\n",
       "    <tr>\n",
       "      <th>DDOG</th>\n",
       "      <td>117.13000</td>\n",
       "    </tr>\n",
       "    <tr>\n",
       "      <th>SQ</th>\n",
       "      <td>100.96500</td>\n",
       "    </tr>\n",
       "    <tr>\n",
       "      <th>TTD</th>\n",
       "      <td>59.87875</td>\n",
       "    </tr>\n",
       "    <tr>\n",
       "      <th>BYND</th>\n",
       "      <td>35.90375</td>\n",
       "    </tr>\n",
       "    <tr>\n",
       "      <th>SNAP</th>\n",
       "      <td>28.45625</td>\n",
       "    </tr>\n",
       "    <tr>\n",
       "      <th>PINS</th>\n",
       "      <td>21.62250</td>\n",
       "    </tr>\n",
       "  </tbody>\n",
       "</table>\n",
       "</div>"
      ],
      "text/plain": [
       "              High\n",
       "Company           \n",
       "SHOP     436.73250\n",
       "FB       207.11250\n",
       "NFLX     197.18625\n",
       "OKTA     117.92125\n",
       "DDOG     117.13000\n",
       "SQ       100.96500\n",
       "TTD       59.87875\n",
       "BYND      35.90375\n",
       "SNAP      28.45625\n",
       "PINS      21.62250"
      ]
     },
     "execution_count": 199,
     "metadata": {},
     "output_type": "execute_result"
    }
   ],
   "source": [
    "avg_df.sort_values('High', ascending = False)"
   ]
  },
  {
   "cell_type": "code",
   "execution_count": 200,
   "id": "1fd94953",
   "metadata": {},
   "outputs": [
    {
     "data": {
      "image/png": "[encoded data removed]",
      "text/plain": [
       "<Figure size 648x360 with 1 Axes>"
      ]
     },
     "metadata": {
      "needs_background": "light"
     },
     "output_type": "display_data"
    }
   ],
   "source": [
    "plt.figure(figsize=(9, 5))\n",
    "df_sorted = avg_df.sort_values('High', ascending = False)\n",
    "plt.bar(df_sorted.index, df_sorted.High, data=df_sorted, color= 'green')\n",
    "plt.title(\"Average Highest Hourly Price on May 2nd, 2022\")\n",
    "\n",
    "plt.xlabel(\"Company\")\n",
    "plt.ylabel(\"Price\")\n",
    "plt.show()"
   ]
  },
  {
   "cell_type": "code",
   "execution_count": null,
   "id": "81fcc260",
   "metadata": {},
   "outputs": [],
   "source": []
  }
 ],
 "metadata": {
  "kernelspec": {
   "display_name": "Python 3 (ipykernel)",
   "language": "python",
   "name": "python3"
  },
  "language_info": {
   "codemirror_mode": {
    "name": "ipython",
    "version": 3
   },
   "file_extension": ".py",
   "mimetype": "text/x-python",
   "name": "python",
   "nbconvert_exporter": "python",
   "pygments_lexer": "ipython3",
   "version": "3.8.12"
  }
 },
 "nbformat": 4,
 "nbformat_minor": 5
}
